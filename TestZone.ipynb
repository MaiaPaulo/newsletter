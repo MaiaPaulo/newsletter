{
 "cells": [
  {
   "cell_type": "code",
   "execution_count": 1,
   "outputs": [],
   "source": [
    "import os\n",
    "import pandas as pd"
   ],
   "metadata": {
    "collapsed": false
   }
  },
  {
   "cell_type": "code",
   "execution_count": 2,
   "outputs": [],
   "source": [
    "name = [\"teste\", \"teste2\", \"teste3\"]\n",
    "college = [\"LaSalle\", \"Trebas\", \"Greystone\"]\n",
    "course = [\"AI\", \"ML\", \"software\"]\n",
    "email = [\"teste@gmail.com\", \"teste2@gmail.com\", \"teste3@gmail.com\"]\n",
    "\n",
    "data = {\"Name\":name, \"College\":college, \"Course\":course, \"Email\":email}"
   ],
   "metadata": {
    "collapsed": false
   }
  },
  {
   "cell_type": "code",
   "execution_count": 7,
   "outputs": [
    {
     "data": {
      "text/plain": "['Name', 'College', 'Course', 'Email']"
     },
     "execution_count": 7,
     "metadata": {},
     "output_type": "execute_result"
    }
   ],
   "source": [
    "columns = [keys for keys in data.keys()]\n",
    "columns"
   ],
   "metadata": {
    "collapsed": false
   }
  },
  {
   "cell_type": "code",
   "execution_count": 8,
   "outputs": [],
   "source": [
    "df = pd.DataFrame(data=data, columns=columns)"
   ],
   "metadata": {
    "collapsed": false
   }
  },
  {
   "cell_type": "code",
   "execution_count": null,
   "outputs": [],
   "source": [
    "# Importing Streamlit\n",
    "import streamlit as st\n",
    "\n",
    "# Tittle and sub tittle of the web form\n",
    "st.title(\"Newsletter registration\")\n",
    "st.subheader(\"The main informations about Tech twice a week!\")\n",
    "\n",
    "# Parameters for tto get the information\n",
    "with st.form(\"Register\", clear_on_submit=True):\n",
    "    name = st.text_input(\"Enter your full name\")\n",
    "    college = st.text_input(\"Where do you study?\")\n",
    "    course = st.text_input(\"What is your field of study?\")\n",
    "    email = st.text_input(\"What is your best email?\")\n",
    "\n",
    "    submit = st.form_submit_button(\"I want to get connected\")"
   ],
   "metadata": {
    "collapsed": false
   }
  },
  {
   "cell_type": "markdown",
   "source": [
    "# Conection to the DB"
   ],
   "metadata": {
    "collapsed": false
   }
  },
  {
   "cell_type": "code",
   "execution_count": 1,
   "outputs": [],
   "source": [
    "import pyodbc"
   ],
   "metadata": {
    "collapsed": false
   }
  },
  {
   "cell_type": "code",
   "execution_count": 2,
   "outputs": [],
   "source": [
    "# Creating a new connection to a LOCAL DB\n",
    "conn_str = (\"Driver={SQL Server};\"\n",
    "            \"Server=MAIALAPTOP;\"\n",
    "            \"Database=newsletter;\"\n",
    "            \"Trusted_Connection=yes;\"\n",
    "            \"Uid=auth_window\")\n",
    "conn = pyodbc.connect(conn_str)\n",
    "cursor = conn.cursor()"
   ],
   "metadata": {
    "collapsed": false
   }
  },
  {
   "cell_type": "code",
   "execution_count": 3,
   "outputs": [
    {
     "name": "stdout",
     "output_type": "stream",
     "text": [
      "('Paulo Maia', 'Silva Maia', 'La Salle', 'AI and ML', 'maiapaulo311@gmail.com')\n",
      "('test', 'test', 'test', 'test', 'test')\n",
      "('Teste', 'test', 'test', 'test', 'test')\n",
      "('Daniel', 'Ochoa', 'College Lasalle', 'AI and ML', 'ochoapalaciodaniel@gmail.com')\n",
      "('Gabriel Rodrigues', 'De Giacco', '', '', 'bi7000@gmail.com')\n"
     ]
    }
   ],
   "source": [
    "# Getting the information and printing\n",
    "cursor.execute(\"SELECT * FROM Register\")\n",
    "for row in cursor:\n",
    "    print(row)"
   ],
   "metadata": {
    "collapsed": false
   }
  },
  {
   "cell_type": "code",
   "execution_count": 48,
   "outputs": [],
   "source": [
    "FirstName = \"Daniel\"\n",
    "SecondName = \"Ochoa\"\n",
    "College = \"College Lasalle\"\n",
    "Course = \"AI and ML\"\n",
    "Email = \"ochoapalaciodaniel@gmail.com\""
   ],
   "metadata": {
    "collapsed": false
   }
  },
  {
   "cell_type": "code",
   "execution_count": 49,
   "outputs": [],
   "source": [
    "# Create a new record\n",
    "#sql = \"INSERT INTO Register (FirstName, SecondName, College, Course, Email) VALUES (%s, %s, %s, %s, %s)\"\n",
    "\n",
    "# Execute the query\n",
    "cursor.execute(\"INSERT INTO Register (FirstName, SecondName, College, Course, Email) VALUES (?, ?, ?, ?, ? )\", (FirstName,SecondName, College, Course, Email))\n",
    "\n",
    "# the connection is not autocommited by default. So we must commit to save our changes.\n",
    "conn.commit()"
   ],
   "metadata": {
    "collapsed": false
   }
  },
  {
   "cell_type": "code",
   "execution_count": 43,
   "outputs": [
    {
     "ename": "TypeError",
     "evalue": "Cursor.fetchall() takes no arguments (1 given)",
     "output_type": "error",
     "traceback": [
      "\u001B[1;31m---------------------------------------------------------------------------\u001B[0m",
      "\u001B[1;31mTypeError\u001B[0m                                 Traceback (most recent call last)",
      "Cell \u001B[1;32mIn[43], line 1\u001B[0m\n\u001B[1;32m----> 1\u001B[0m \u001B[43mcursor\u001B[49m\u001B[38;5;241;43m.\u001B[39;49m\u001B[43mfetchall\u001B[49m\u001B[43m(\u001B[49m\u001B[38;5;124;43mf\u001B[39;49m\u001B[38;5;124;43m\"\u001B[39;49m\u001B[38;5;124;43mINSERT INTO Register (FirstName, SecondName, College, Course, Email) VALUES (\u001B[39;49m\u001B[38;5;132;43;01m{\u001B[39;49;00m\u001B[43mFirstName\u001B[49m\u001B[38;5;132;43;01m}\u001B[39;49;00m\u001B[38;5;124;43m, \u001B[39;49m\u001B[38;5;124;43m'\u001B[39;49m\u001B[38;5;124;43mtest\u001B[39;49m\u001B[38;5;124;43m'\u001B[39;49m\u001B[38;5;124;43m, \u001B[39;49m\u001B[38;5;124;43m'\u001B[39;49m\u001B[38;5;124;43mtest\u001B[39;49m\u001B[38;5;124;43m'\u001B[39;49m\u001B[38;5;124;43m, \u001B[39;49m\u001B[38;5;124;43m'\u001B[39;49m\u001B[38;5;124;43mtest\u001B[39;49m\u001B[38;5;124;43m'\u001B[39;49m\u001B[38;5;124;43m, \u001B[39;49m\u001B[38;5;124;43m'\u001B[39;49m\u001B[38;5;124;43mtest\u001B[39;49m\u001B[38;5;124;43m'\u001B[39;49m\u001B[38;5;124;43m )\u001B[39;49m\u001B[38;5;124;43m\"\u001B[39;49m\u001B[43m)\u001B[49m\n",
      "\u001B[1;31mTypeError\u001B[0m: Cursor.fetchall() takes no arguments (1 given)"
     ]
    }
   ],
   "source": [],
   "metadata": {
    "collapsed": false
   }
  },
  {
   "cell_type": "code",
   "execution_count": null,
   "outputs": [],
   "source": [],
   "metadata": {
    "collapsed": false
   }
  }
 ],
 "metadata": {
  "kernelspec": {
   "display_name": "Python 3",
   "language": "python",
   "name": "python3"
  },
  "language_info": {
   "codemirror_mode": {
    "name": "ipython",
    "version": 2
   },
   "file_extension": ".py",
   "mimetype": "text/x-python",
   "name": "python",
   "nbconvert_exporter": "python",
   "pygments_lexer": "ipython2",
   "version": "2.7.6"
  }
 },
 "nbformat": 4,
 "nbformat_minor": 0
}
