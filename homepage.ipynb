{
 "cells": [
  {
   "cell_type": "code",
   "execution_count": 1,
   "metadata": {
    "collapsed": true
   },
   "outputs": [],
   "source": []
  },
  {
   "cell_type": "code",
   "execution_count": 1,
   "outputs": [],
   "source": [
    "import pandas as pd"
   ],
   "metadata": {
    "collapsed": false
   }
  },
  {
   "cell_type": "code",
   "execution_count": 2,
   "outputs": [],
   "source": [
    "name = [\"teste\", \"teste2\", \"teste3\"]\n",
    "college = [\"LaSalle\", \"Trebas\", \"Greystone\"]\n",
    "course = [\"AI\", \"ML\", \"software\"]\n",
    "email = [\"teste@gmail.com\", \"teste2@gmail.com\", \"teste3@gmail.com\"]\n",
    "\n",
    "data = {\"Name\":name, \"College\":college, \"Course\":course, \"Email\":email}"
   ],
   "metadata": {
    "collapsed": false
   }
  },
  {
   "cell_type": "code",
   "execution_count": null,
   "outputs": [],
   "source": [
    "df = pd.DataFrame()"
   ],
   "metadata": {
    "collapsed": false
   }
  },
  {
   "cell_type": "code",
   "execution_count": null,
   "outputs": [],
   "source": [
    "# Importing Streamlit\n",
    "import streamlit as st\n",
    "\n",
    "# Tittle and sub tittle of the web form\n",
    "st.title(\"Newsletter registration\")\n",
    "st.subheader(\"The main informations about Tech twice a week!\")\n",
    "\n",
    "# Parameters for tto get the information\n",
    "with st.form(\"Register\", clear_on_submit=True):\n",
    "    name = st.text_input(\"Enter your full name\")\n",
    "    college = st.text_input(\"Where do you study?\")\n",
    "    course = st.text_input(\"What is your field of study?\")\n",
    "    email = st.text_input(\"What is your best email?\")\n",
    "\n",
    "    submit = st.form_submit_button(\"I want to get connected\")"
   ],
   "metadata": {
    "collapsed": false
   }
  }
 ],
 "metadata": {
  "kernelspec": {
   "display_name": "Python 3",
   "language": "python",
   "name": "python3"
  },
  "language_info": {
   "codemirror_mode": {
    "name": "ipython",
    "version": 2
   },
   "file_extension": ".py",
   "mimetype": "text/x-python",
   "name": "python",
   "nbconvert_exporter": "python",
   "pygments_lexer": "ipython2",
   "version": "2.7.6"
  }
 },
 "nbformat": 4,
 "nbformat_minor": 0
}
